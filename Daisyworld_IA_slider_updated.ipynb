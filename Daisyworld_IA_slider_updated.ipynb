{
 "cells": [
  {
   "cell_type": "markdown",
   "id": "4b1ca3d7",
   "metadata": {},
   "source": [
    "### RUN HERE \n",
    "Have fun! <br>\n",
    "Let us know if you can't install the package "
   ]
  },
  {
   "cell_type": "code",
   "execution_count": 1,
   "id": "36dd4425",
   "metadata": {},
   "outputs": [
    {
     "name": "stdout",
     "output_type": "stream",
     "text": [
      "Requirement already satisfied: ipywidgets in /Users/eugenegan/opt/anaconda3/lib/python3.8/site-packages (7.6.3)\n",
      "Requirement already satisfied: ipython>=4.0.0 in /Users/eugenegan/opt/anaconda3/lib/python3.8/site-packages (from ipywidgets) (7.22.0)\n",
      "Requirement already satisfied: traitlets>=4.3.1 in /Users/eugenegan/opt/anaconda3/lib/python3.8/site-packages (from ipywidgets) (5.0.5)\n",
      "Requirement already satisfied: nbformat>=4.2.0 in /Users/eugenegan/opt/anaconda3/lib/python3.8/site-packages (from ipywidgets) (5.1.3)\n",
      "Requirement already satisfied: widgetsnbextension~=3.5.0 in /Users/eugenegan/opt/anaconda3/lib/python3.8/site-packages (from ipywidgets) (3.5.1)\n",
      "Requirement already satisfied: ipykernel>=4.5.1 in /Users/eugenegan/opt/anaconda3/lib/python3.8/site-packages (from ipywidgets) (5.3.4)\n",
      "Requirement already satisfied: jupyterlab-widgets>=1.0.0 in /Users/eugenegan/opt/anaconda3/lib/python3.8/site-packages (from ipywidgets) (1.0.0)\n",
      "Requirement already satisfied: appnope in /Users/eugenegan/opt/anaconda3/lib/python3.8/site-packages (from ipykernel>=4.5.1->ipywidgets) (0.1.2)\n",
      "Requirement already satisfied: jupyter-client in /Users/eugenegan/opt/anaconda3/lib/python3.8/site-packages (from ipykernel>=4.5.1->ipywidgets) (6.1.12)\n",
      "Requirement already satisfied: tornado>=4.2 in /Users/eugenegan/opt/anaconda3/lib/python3.8/site-packages (from ipykernel>=4.5.1->ipywidgets) (6.1)\n",
      "Requirement already satisfied: decorator in /Users/eugenegan/opt/anaconda3/lib/python3.8/site-packages (from ipython>=4.0.0->ipywidgets) (5.0.6)\n",
      "Requirement already satisfied: backcall in /Users/eugenegan/opt/anaconda3/lib/python3.8/site-packages (from ipython>=4.0.0->ipywidgets) (0.2.0)\n",
      "Requirement already satisfied: prompt-toolkit!=3.0.0,!=3.0.1,<3.1.0,>=2.0.0 in /Users/eugenegan/opt/anaconda3/lib/python3.8/site-packages (from ipython>=4.0.0->ipywidgets) (3.0.17)\n",
      "Requirement already satisfied: pexpect>4.3 in /Users/eugenegan/opt/anaconda3/lib/python3.8/site-packages (from ipython>=4.0.0->ipywidgets) (4.8.0)\n",
      "Requirement already satisfied: pickleshare in /Users/eugenegan/opt/anaconda3/lib/python3.8/site-packages (from ipython>=4.0.0->ipywidgets) (0.7.5)\n",
      "Requirement already satisfied: setuptools>=18.5 in /Users/eugenegan/opt/anaconda3/lib/python3.8/site-packages (from ipython>=4.0.0->ipywidgets) (52.0.0.post20210125)\n",
      "Requirement already satisfied: jedi>=0.16 in /Users/eugenegan/opt/anaconda3/lib/python3.8/site-packages (from ipython>=4.0.0->ipywidgets) (0.17.2)\n",
      "Requirement already satisfied: pygments in /Users/eugenegan/opt/anaconda3/lib/python3.8/site-packages (from ipython>=4.0.0->ipywidgets) (2.8.1)\n",
      "Requirement already satisfied: parso<0.8.0,>=0.7.0 in /Users/eugenegan/opt/anaconda3/lib/python3.8/site-packages (from jedi>=0.16->ipython>=4.0.0->ipywidgets) (0.7.0)\n",
      "Requirement already satisfied: ipython-genutils in /Users/eugenegan/opt/anaconda3/lib/python3.8/site-packages (from nbformat>=4.2.0->ipywidgets) (0.2.0)\n",
      "Requirement already satisfied: jsonschema!=2.5.0,>=2.4 in /Users/eugenegan/opt/anaconda3/lib/python3.8/site-packages (from nbformat>=4.2.0->ipywidgets) (3.2.0)\n",
      "Requirement already satisfied: jupyter-core in /Users/eugenegan/opt/anaconda3/lib/python3.8/site-packages (from nbformat>=4.2.0->ipywidgets) (4.7.1)\n",
      "Requirement already satisfied: attrs>=17.4.0 in /Users/eugenegan/opt/anaconda3/lib/python3.8/site-packages (from jsonschema!=2.5.0,>=2.4->nbformat>=4.2.0->ipywidgets) (20.3.0)\n",
      "Requirement already satisfied: six>=1.11.0 in /Users/eugenegan/opt/anaconda3/lib/python3.8/site-packages (from jsonschema!=2.5.0,>=2.4->nbformat>=4.2.0->ipywidgets) (1.15.0)\n",
      "Requirement already satisfied: pyrsistent>=0.14.0 in /Users/eugenegan/opt/anaconda3/lib/python3.8/site-packages (from jsonschema!=2.5.0,>=2.4->nbformat>=4.2.0->ipywidgets) (0.17.3)\n",
      "Requirement already satisfied: ptyprocess>=0.5 in /Users/eugenegan/opt/anaconda3/lib/python3.8/site-packages (from pexpect>4.3->ipython>=4.0.0->ipywidgets) (0.7.0)\n",
      "Requirement already satisfied: wcwidth in /Users/eugenegan/opt/anaconda3/lib/python3.8/site-packages (from prompt-toolkit!=3.0.0,!=3.0.1,<3.1.0,>=2.0.0->ipython>=4.0.0->ipywidgets) (0.2.5)\n",
      "Requirement already satisfied: notebook>=4.4.1 in /Users/eugenegan/opt/anaconda3/lib/python3.8/site-packages (from widgetsnbextension~=3.5.0->ipywidgets) (6.3.0)\n",
      "Requirement already satisfied: terminado>=0.8.3 in /Users/eugenegan/opt/anaconda3/lib/python3.8/site-packages (from notebook>=4.4.1->widgetsnbextension~=3.5.0->ipywidgets) (0.9.4)\n",
      "Requirement already satisfied: Send2Trash>=1.5.0 in /Users/eugenegan/opt/anaconda3/lib/python3.8/site-packages (from notebook>=4.4.1->widgetsnbextension~=3.5.0->ipywidgets) (1.5.0)\n",
      "Requirement already satisfied: argon2-cffi in /Users/eugenegan/opt/anaconda3/lib/python3.8/site-packages (from notebook>=4.4.1->widgetsnbextension~=3.5.0->ipywidgets) (20.1.0)\n",
      "Requirement already satisfied: jinja2 in /Users/eugenegan/opt/anaconda3/lib/python3.8/site-packages (from notebook>=4.4.1->widgetsnbextension~=3.5.0->ipywidgets) (2.11.3)\n",
      "Requirement already satisfied: pyzmq>=17 in /Users/eugenegan/opt/anaconda3/lib/python3.8/site-packages (from notebook>=4.4.1->widgetsnbextension~=3.5.0->ipywidgets) (20.0.0)\n",
      "Requirement already satisfied: nbconvert in /Users/eugenegan/opt/anaconda3/lib/python3.8/site-packages (from notebook>=4.4.1->widgetsnbextension~=3.5.0->ipywidgets) (6.0.7)\n",
      "Requirement already satisfied: prometheus-client in /Users/eugenegan/opt/anaconda3/lib/python3.8/site-packages (from notebook>=4.4.1->widgetsnbextension~=3.5.0->ipywidgets) (0.10.1)\n",
      "Requirement already satisfied: python-dateutil>=2.1 in /Users/eugenegan/opt/anaconda3/lib/python3.8/site-packages (from jupyter-client->ipykernel>=4.5.1->ipywidgets) (2.8.1)\n",
      "Requirement already satisfied: cffi>=1.0.0 in /Users/eugenegan/opt/anaconda3/lib/python3.8/site-packages (from argon2-cffi->notebook>=4.4.1->widgetsnbextension~=3.5.0->ipywidgets) (1.14.5)\n",
      "Requirement already satisfied: pycparser in /Users/eugenegan/opt/anaconda3/lib/python3.8/site-packages (from cffi>=1.0.0->argon2-cffi->notebook>=4.4.1->widgetsnbextension~=3.5.0->ipywidgets) (2.20)\n",
      "Requirement already satisfied: MarkupSafe>=0.23 in /Users/eugenegan/opt/anaconda3/lib/python3.8/site-packages (from jinja2->notebook>=4.4.1->widgetsnbextension~=3.5.0->ipywidgets) (1.1.1)\n",
      "Requirement already satisfied: mistune<2,>=0.8.1 in /Users/eugenegan/opt/anaconda3/lib/python3.8/site-packages (from nbconvert->notebook>=4.4.1->widgetsnbextension~=3.5.0->ipywidgets) (0.8.4)\n",
      "Requirement already satisfied: pandocfilters>=1.4.1 in /Users/eugenegan/opt/anaconda3/lib/python3.8/site-packages (from nbconvert->notebook>=4.4.1->widgetsnbextension~=3.5.0->ipywidgets) (1.4.3)\n",
      "Requirement already satisfied: nbclient<0.6.0,>=0.5.0 in /Users/eugenegan/opt/anaconda3/lib/python3.8/site-packages (from nbconvert->notebook>=4.4.1->widgetsnbextension~=3.5.0->ipywidgets) (0.5.3)\n",
      "Requirement already satisfied: defusedxml in /Users/eugenegan/opt/anaconda3/lib/python3.8/site-packages (from nbconvert->notebook>=4.4.1->widgetsnbextension~=3.5.0->ipywidgets) (0.7.1)\n",
      "Requirement already satisfied: bleach in /Users/eugenegan/opt/anaconda3/lib/python3.8/site-packages (from nbconvert->notebook>=4.4.1->widgetsnbextension~=3.5.0->ipywidgets) (3.3.0)\n",
      "Requirement already satisfied: entrypoints>=0.2.2 in /Users/eugenegan/opt/anaconda3/lib/python3.8/site-packages (from nbconvert->notebook>=4.4.1->widgetsnbextension~=3.5.0->ipywidgets) (0.3)\n",
      "Requirement already satisfied: testpath in /Users/eugenegan/opt/anaconda3/lib/python3.8/site-packages (from nbconvert->notebook>=4.4.1->widgetsnbextension~=3.5.0->ipywidgets) (0.4.4)\n",
      "Requirement already satisfied: jupyterlab-pygments in /Users/eugenegan/opt/anaconda3/lib/python3.8/site-packages (from nbconvert->notebook>=4.4.1->widgetsnbextension~=3.5.0->ipywidgets) (0.1.2)\n",
      "Requirement already satisfied: nest-asyncio in /Users/eugenegan/opt/anaconda3/lib/python3.8/site-packages (from nbclient<0.6.0,>=0.5.0->nbconvert->notebook>=4.4.1->widgetsnbextension~=3.5.0->ipywidgets) (1.5.1)\n",
      "Requirement already satisfied: async-generator in /Users/eugenegan/opt/anaconda3/lib/python3.8/site-packages (from nbclient<0.6.0,>=0.5.0->nbconvert->notebook>=4.4.1->widgetsnbextension~=3.5.0->ipywidgets) (1.10)\n"
     ]
    },
    {
     "name": "stdout",
     "output_type": "stream",
     "text": [
      "Requirement already satisfied: packaging in /Users/eugenegan/opt/anaconda3/lib/python3.8/site-packages (from bleach->nbconvert->notebook>=4.4.1->widgetsnbextension~=3.5.0->ipywidgets) (20.9)\n",
      "Requirement already satisfied: webencodings in /Users/eugenegan/opt/anaconda3/lib/python3.8/site-packages (from bleach->nbconvert->notebook>=4.4.1->widgetsnbextension~=3.5.0->ipywidgets) (0.5.1)\n",
      "Requirement already satisfied: pyparsing>=2.0.2 in /Users/eugenegan/opt/anaconda3/lib/python3.8/site-packages (from packaging->bleach->nbconvert->notebook>=4.4.1->widgetsnbextension~=3.5.0->ipywidgets) (2.4.7)\n",
      "Enabling notebook extension jupyter-js-widgets/extension...\n",
      "      - Validating: \u001b[32mOK\u001b[0m\n"
     ]
    }
   ],
   "source": [
    "!pip install ipywidgets\n",
    "!jupyter nbextension enable --py widgetsnbextension"
   ]
  },
  {
   "cell_type": "code",
   "execution_count": 1,
   "id": "e8eab38c",
   "metadata": {},
   "outputs": [],
   "source": [
    "import ipywidgets as widgets\n",
    "import matplotlib.pyplot as plt\n",
    "import numpy as np\n",
    "from IPython.display import display\n",
    "%matplotlib inline"
   ]
  },
  {
   "cell_type": "code",
   "execution_count": 2,
   "id": "c554f599",
   "metadata": {},
   "outputs": [],
   "source": [
    "ar_vals_inc = np.load('ar_vals_inc.npy')\n",
    "ar_vals_dec = np.load('ar_vals_dec.npy')\n",
    "inc_data = np.load(\"temp_vals_inc.npy\")\n",
    "dec_data = np.load(\"temp_vals_dec.npy\")"
   ]
  },
  {
   "cell_type": "code",
   "execution_count": 3,
   "id": "14cd83b2",
   "metadata": {
    "scrolled": false
   },
   "outputs": [
    {
     "data": {
      "application/vnd.jupyter.widget-view+json": {
       "model_id": "3a2c517c2fbb4102be862cbf55b855ad",
       "version_major": 2,
       "version_minor": 0
      },
      "text/plain": [
       "interactive(children=(FloatSlider(value=0.8, description='Luminosity', max=1.8, min=0.8, step=0.005), Dropdown…"
      ]
     },
     "metadata": {},
     "output_type": "display_data"
    }
   ],
   "source": [
    "@widgets.interact(\n",
    "    Series = [\"Increasing\", \"Decreasing\"], Luminosity = (0.8, 1.8, 0.005))\n",
    "def plot(Luminosity = 0.8 ,Series = \"Increasing\", grid=True):\n",
    "    \n",
    "    x = range(1, 11)\n",
    "    \n",
    "    if Series == \"Increasing\":\n",
    "        ind = int((Luminosity - 0.8)*999)\n",
    "    else:\n",
    "        ind = 999 - int((Luminosity - 0.8)*1000)\n",
    "    \n",
    "    perc_inc = ar_vals_inc[ind, :, :]\n",
    "    perc_dec = ar_vals_dec[ind, :, :]\n",
    "    \n",
    "    get_data = lambda ind: perc_inc if Series == \"Increasing\" else perc_dec\n",
    "    curr_temp = inc_data[ind] if Series == \"Increasing\" else dec_data[ind]\n",
    "\n",
    "    fig, (ax1, ax2) = plt.subplots(1, 2, figsize=(16, 6))\n",
    "    \n",
    "    fig.suptitle(\"Temperature - Luminosity plots across Ice Albedo Model\", fontsize = 'xx-large')\n",
    "    \n",
    "    ax1.set_ylim((0, 100))\n",
    "    perc_arr = get_data(ind)\n",
    "    \n",
    "    ax1.bar(range(1, 11), perc_arr[:, 1], color='k', label = \"Black Daisies\")\n",
    "    ax1.bar(range(1, 11), perc_arr[:, 0]+perc_arr[:, 1], bottom=perc_arr[:, 1], color='xkcd:sky blue', label = \"White Daisies\")\n",
    "    ax1.legend()\n",
    "    \n",
    "    ax2.plot(np.arange(0.8, 1.8, 0.001), inc_data, label = \"Increasing\")\n",
    "    ax2.plot(np.arange(1.8, 0.8, -0.001), dec_data, label = \"Decreasing\")\n",
    "    ax2.plot(Luminosity, curr_temp, marker=\"o\", markersize=7, label = f\"L = {Luminosity}, T = {round(curr_temp, 2)}K\")\n",
    "    ax2.legend()\n",
    "    \n",
    "    ax1.set_xticks(range(1,11))\n",
    "    ax1.set_yticks(range(0,101, 10))\n",
    "    ax1.set_xlabel(\"Latitude zones\", fontsize = 'large')\n",
    "    ax1.set_ylabel(\"%age coverage\", fontsize = 'large')\n",
    "    ax1.set_title(f\"{Series} Luminosity\", fontsize = 'x-large')\n",
    "    \n",
    "    ax2.set_xlabel(\"Luminosity\", fontsize = 'large')\n",
    "    ax2.set_ylabel(\"Temperature\", fontsize = 'large')\n",
    "    ax2.set_yticks(range(260, 370, 10))\n",
    "    ax2.set_title(f\"Overall Temperature vs. Luminosity\", fontsize = 'x-large')\n",
    "    \n",
    "    ax1.grid(grid)\n",
    "    ax2.grid(grid)"
   ]
  },
  {
   "cell_type": "markdown",
   "id": "9a41af58",
   "metadata": {},
   "source": [
    "# Appendix\n",
    "- final output: create 4 arrays, consisting area of daisies and temperature values when increasing and decreasing Luminosity\n",
    "- feel free to generate the arrays of data and change some parameters if you are bored but do note that it will take around 30 minutes to generate those arrays :)"
   ]
  },
  {
   "cell_type": "code",
   "execution_count": 1,
   "id": "56d764f9",
   "metadata": {},
   "outputs": [],
   "source": [
    "import numpy as np\n",
    "import matplotlib.pyplot as plt\n",
    "from tqdm import tqdm"
   ]
  },
  {
   "cell_type": "markdown",
   "id": "2846e031",
   "metadata": {},
   "source": [
    "### Formulas and function used to generate our arrays"
   ]
  },
  {
   "cell_type": "code",
   "execution_count": 2,
   "id": "b9561ee4",
   "metadata": {},
   "outputs": [],
   "source": [
    "ar_arr = np.full((10,2), 0.0001)\n",
    "area_list = np.array([0.16, 0.15, 0.14, 0.13, 0.12, 0.10, 0.08, 0.06, 0.04, 0.01]).reshape((10,1))\n",
    "daisy_temp = np.full((10,2), 0.0)\n",
    "ground_temp = np.full((10,1), 0.0)\n",
    "S_list = np.array([417, 406, 386, 356, 318, 271, 218, 160, 113, 73]).reshape((10,1))\n",
    "alb_arr = np.array([0.7, 0.2])\n",
    "alb_g = 0.3\n",
    "left_g = area_list - ar_arr.sum(axis = 1).reshape((10,1))\n",
    "sigma = 5.67*10**(-8)\n",
    "temp_arr = np.full((10,1), 0.0)\n",
    "opt_temp = np.array([295, 295])\n",
    "L = 0.8\n",
    "R = 0.2\n",
    "dr = 0.3 * area_list\n",
    "G,A,B=3.8,204,2.17"
   ]
  },
  {
   "cell_type": "code",
   "execution_count": 3,
   "id": "445ab1f9",
   "metadata": {},
   "outputs": [],
   "source": [
    "def calc_albedo():\n",
    "    return ((ar_arr*alb_arr).sum(axis = 1).reshape((10,1)) + (left_g*alb_g))/(area_list)"
   ]
  },
  {
   "cell_type": "code",
   "execution_count": 4,
   "id": "2499e368",
   "metadata": {},
   "outputs": [],
   "source": [
    "def update_ice():\n",
    "    for i in range((alb_planet.shape[0])):\n",
    "        alb_planet[i] = [0.6] if temp_arr[i] < 263.15 else alb_planet[i]"
   ]
  },
  {
   "cell_type": "code",
   "execution_count": 5,
   "id": "2d42b5ec",
   "metadata": {},
   "outputs": [],
   "source": [
    "def fixed_pt_iteration(T, f, tol = 0.005):\n",
    "    while sum(abs(T - f(T))) > tol:\n",
    "        T = f(T)\n",
    "    return T\n",
    "\n",
    "def temp_fxn(T):\n",
    "    return ((L*S_list*(1 - alb_planet) - A + G*sum(((T-273.15)*area_list)))/(B+G)) + 273.15\n",
    "\n",
    "def mod_temp_fxn(T):\n",
    "    return ((L*S_list*(1 - alb_planet)) + G*(sum(((T-273.15)*area_list)) - T))**(0.25)/(5.67*10**(-8))"
   ]
  },
  {
   "cell_type": "code",
   "execution_count": 6,
   "id": "fd25a1ed",
   "metadata": {},
   "outputs": [],
   "source": [
    "update = lambda x: max([x, 0.00001])\n",
    "vec_update = np.vectorize(update)\n",
    "update_perc = lambda x: max([x - 0.00001, 0])\n",
    "vec_update_perc = np.vectorize(update_perc)"
   ]
  },
  {
   "cell_type": "code",
   "execution_count": 7,
   "id": "4c47d834",
   "metadata": {},
   "outputs": [],
   "source": [
    "def update_beta():\n",
    "    beta = (1 - 0.003265*(opt_temp - daisy_temp)**2)\n",
    "    mask_daisy = (daisy_temp <= 313.15)*(daisy_temp >= 278.15)\n",
    "    return beta*mask_daisy"
   ]
  },
  {
   "cell_type": "markdown",
   "id": "e0711882",
   "metadata": {},
   "source": [
    "## Generate Array Daisies area and Temperature values area at every increase of L\n",
    "- L increase by 0.001 for every iterations first\n",
    "- For every increase of L, the earth will goes through a period of time(iteration=1000) where it undergoes equilibrium at different latitude zone and we store the area of the black and white daisies, along with the temp in the arrays.\n"
   ]
  },
  {
   "cell_type": "code",
   "execution_count": 8,
   "id": "a30634b3",
   "metadata": {},
   "outputs": [
    {
     "name": "stderr",
     "output_type": "stream",
     "text": [
      "  4%|▍         | 39/1000 [00:33<13:40,  1.17it/s]\n"
     ]
    },
    {
     "ename": "KeyboardInterrupt",
     "evalue": "",
     "output_type": "error",
     "traceback": [
      "\u001b[0;31m---------------------------------------------------------------------------\u001b[0m",
      "\u001b[0;31mKeyboardInterrupt\u001b[0m                         Traceback (most recent call last)",
      "\u001b[0;32m<ipython-input-8-b59c42ef9fa1>\u001b[0m in \u001b[0;36m<module>\u001b[0;34m\u001b[0m\n\u001b[1;32m      7\u001b[0m         \u001b[0malb_planet\u001b[0m \u001b[0;34m=\u001b[0m \u001b[0mcalc_albedo\u001b[0m\u001b[0;34m(\u001b[0m\u001b[0;34m)\u001b[0m\u001b[0;34m\u001b[0m\u001b[0;34m\u001b[0m\u001b[0m\n\u001b[1;32m      8\u001b[0m         \u001b[0mtemp_arr\u001b[0m \u001b[0;34m=\u001b[0m \u001b[0;34m(\u001b[0m\u001b[0mL\u001b[0m\u001b[0;34m*\u001b[0m\u001b[0mS_list\u001b[0m\u001b[0;34m*\u001b[0m\u001b[0;34m(\u001b[0m\u001b[0;36m1\u001b[0m \u001b[0;34m-\u001b[0m \u001b[0malb_planet\u001b[0m\u001b[0;34m)\u001b[0m\u001b[0;34m/\u001b[0m\u001b[0msigma\u001b[0m\u001b[0;34m)\u001b[0m\u001b[0;34m**\u001b[0m\u001b[0;36m0.25\u001b[0m\u001b[0;34m\u001b[0m\u001b[0;34m\u001b[0m\u001b[0m\n\u001b[0;32m----> 9\u001b[0;31m         \u001b[0mtemp_arr\u001b[0m \u001b[0;34m=\u001b[0m \u001b[0mfixed_pt_iteration\u001b[0m\u001b[0;34m(\u001b[0m\u001b[0mtemp_arr\u001b[0m\u001b[0;34m,\u001b[0m \u001b[0mtemp_fxn\u001b[0m\u001b[0;34m,\u001b[0m \u001b[0;36m0.005\u001b[0m\u001b[0;34m)\u001b[0m\u001b[0;34m\u001b[0m\u001b[0;34m\u001b[0m\u001b[0m\n\u001b[0m\u001b[1;32m     10\u001b[0m         \u001b[0mdaisy_temp\u001b[0m \u001b[0;34m=\u001b[0m \u001b[0;34m(\u001b[0m\u001b[0mR\u001b[0m\u001b[0;34m*\u001b[0m\u001b[0mL\u001b[0m\u001b[0;34m*\u001b[0m\u001b[0mS_list\u001b[0m\u001b[0;34m*\u001b[0m\u001b[0;34m(\u001b[0m\u001b[0malb_planet\u001b[0m \u001b[0;34m-\u001b[0m \u001b[0malb_arr\u001b[0m\u001b[0;34m)\u001b[0m\u001b[0;34m/\u001b[0m\u001b[0msigma\u001b[0m \u001b[0;34m+\u001b[0m \u001b[0;34m(\u001b[0m\u001b[0mtemp_arr\u001b[0m\u001b[0;34m**\u001b[0m\u001b[0;36m4\u001b[0m\u001b[0;34m)\u001b[0m\u001b[0;34m)\u001b[0m\u001b[0;34m**\u001b[0m\u001b[0;34m(\u001b[0m\u001b[0;36m0.25\u001b[0m\u001b[0;34m)\u001b[0m\u001b[0;34m\u001b[0m\u001b[0;34m\u001b[0m\u001b[0m\n\u001b[1;32m     11\u001b[0m         \u001b[0mbeta\u001b[0m \u001b[0;34m=\u001b[0m \u001b[0mupdate_beta\u001b[0m\u001b[0;34m(\u001b[0m\u001b[0;34m)\u001b[0m\u001b[0;34m\u001b[0m\u001b[0;34m\u001b[0m\u001b[0m\n",
      "\u001b[0;32m<ipython-input-5-eb54a8a5a0c8>\u001b[0m in \u001b[0;36mfixed_pt_iteration\u001b[0;34m(T, f, tol)\u001b[0m\n\u001b[1;32m      1\u001b[0m \u001b[0;32mdef\u001b[0m \u001b[0mfixed_pt_iteration\u001b[0m\u001b[0;34m(\u001b[0m\u001b[0mT\u001b[0m\u001b[0;34m,\u001b[0m \u001b[0mf\u001b[0m\u001b[0;34m,\u001b[0m \u001b[0mtol\u001b[0m \u001b[0;34m=\u001b[0m \u001b[0;36m0.005\u001b[0m\u001b[0;34m)\u001b[0m\u001b[0;34m:\u001b[0m\u001b[0;34m\u001b[0m\u001b[0;34m\u001b[0m\u001b[0m\n\u001b[0;32m----> 2\u001b[0;31m     \u001b[0;32mwhile\u001b[0m \u001b[0msum\u001b[0m\u001b[0;34m(\u001b[0m\u001b[0mabs\u001b[0m\u001b[0;34m(\u001b[0m\u001b[0mT\u001b[0m \u001b[0;34m-\u001b[0m \u001b[0mf\u001b[0m\u001b[0;34m(\u001b[0m\u001b[0mT\u001b[0m\u001b[0;34m)\u001b[0m\u001b[0;34m)\u001b[0m\u001b[0;34m)\u001b[0m \u001b[0;34m>\u001b[0m \u001b[0mtol\u001b[0m\u001b[0;34m:\u001b[0m\u001b[0;34m\u001b[0m\u001b[0;34m\u001b[0m\u001b[0m\n\u001b[0m\u001b[1;32m      3\u001b[0m         \u001b[0mT\u001b[0m \u001b[0;34m=\u001b[0m \u001b[0mf\u001b[0m\u001b[0;34m(\u001b[0m\u001b[0mT\u001b[0m\u001b[0;34m)\u001b[0m\u001b[0;34m\u001b[0m\u001b[0;34m\u001b[0m\u001b[0m\n\u001b[1;32m      4\u001b[0m     \u001b[0;32mreturn\u001b[0m \u001b[0mT\u001b[0m\u001b[0;34m\u001b[0m\u001b[0;34m\u001b[0m\u001b[0m\n\u001b[1;32m      5\u001b[0m \u001b[0;34m\u001b[0m\u001b[0m\n",
      "\u001b[0;31mKeyboardInterrupt\u001b[0m: "
     ]
    }
   ],
   "source": [
    "ind=0\n",
    "t_vals_inc = np.zeros((1000))\n",
    "ar_vals_inc = np.zeros((1000,10,2))\n",
    "for ind in tqdm(range(1000)):\n",
    "    L = 0.8 + ind/1000\n",
    "    for i in range(1000):\n",
    "        alb_planet = calc_albedo()\n",
    "        temp_arr = (L*S_list*(1 - alb_planet)/sigma)**0.25\n",
    "        temp_arr = fixed_pt_iteration(temp_arr, temp_fxn, 0.005)\n",
    "        daisy_temp = (R*L*S_list*(alb_planet - alb_arr)/sigma + (temp_arr**4))**(0.25)\n",
    "        beta = update_beta()\n",
    "        del_arr = ar_arr*(beta*(left_g) -  dr)\n",
    "        ar_arr += del_arr\n",
    "        ar_arr = vec_update(ar_arr)\n",
    "        left_g = area_list - ar_arr.sum(axis = 1).reshape((10,1))\n",
    "        for i in range(10):\n",
    "            left_g[i] = max(0, left_g[i])\n",
    "    perc_arr = ((ar_arr)/area_list)*100\n",
    "    ar_vals_inc[ind,:,:]= perc_arr\n",
    "    t_vals_inc[ind] = np.sum(temp_arr*area_list)"
   ]
  },
  {
   "cell_type": "code",
   "execution_count": null,
   "id": "09f2aeaf",
   "metadata": {},
   "outputs": [],
   "source": [
    "from numpy import save\n",
    "# define data\n",
    "# save to npy file\n",
    "save('ar_vals_inc.npy', ar_vals_inc)\n",
    "save('temp_vals_inc.npy', t_vals_inc)"
   ]
  },
  {
   "cell_type": "markdown",
   "id": "c5a85d8f",
   "metadata": {},
   "source": [
    "## Generate Array Daisies area and Temperature values area at every decrease of L\n",
    "- also need to consider that due to the ice-albedo model, how the temperature changes at every L will be different if L is decreasing or increasing\n",
    "- For every decrease of L, it will also goes through a period of time(iteration=1000) where it undergoes equilibrium at different latitude zone and we store the area of the black and white daisies, along with the temp in the arrays."
   ]
  },
  {
   "cell_type": "code",
   "execution_count": null,
   "id": "4949f5fc",
   "metadata": {},
   "outputs": [],
   "source": [
    "ind=0\n",
    "t_vals_dec = np.zeros((1000))\n",
    "ar_vals_dec = np.zeros((1000,10,2))\n",
    "for ind in tqdm(range(1000)):\n",
    "    L = 1.8 - ind/1000\n",
    "    for i in range(1000):\n",
    "        alb_planet = calc_albedo()\n",
    "        temp_arr = (L*S_list*(1 - alb_planet)/sigma)**0.25\n",
    "        temp_arr = fixed_pt_iteration(temp_arr, temp_fxn, 0.005)\n",
    "        daisy_temp = (R*L*S_list*(alb_planet - alb_arr)/sigma + (temp_arr**4))**(0.25)\n",
    "        beta = update_beta()\n",
    "        del_arr = ar_arr*(beta*(left_g) -  dr)\n",
    "        ar_arr += del_arr\n",
    "        ar_arr = vec_update(ar_arr)\n",
    "        left_g = area_list - ar_arr.sum(axis = 1).reshape((10,1))\n",
    "        for i in range(10):\n",
    "            left_g[i] = max(0, left_g[i])\n",
    "    perc_arr = ((ar_arr)/area_list)*100\n",
    "    ar_vals_dec[ind,:,:]= perc_arr\n",
    "    t_vals_dec[ind] = np.sum(temp_arr*area_list)"
   ]
  },
  {
   "cell_type": "code",
   "execution_count": null,
   "id": "8925443e",
   "metadata": {},
   "outputs": [],
   "source": [
    "from numpy import save\n",
    "# define data\n",
    "# save to npy file\n",
    "save('ar_vals_dec.npy', ar_vals_dec)\n",
    "save('temp_vals_dec.npy', t_vals_dec)"
   ]
  }
 ],
 "metadata": {
  "kernelspec": {
   "display_name": "Python 3",
   "language": "python",
   "name": "python3"
  },
  "language_info": {
   "codemirror_mode": {
    "name": "ipython",
    "version": 3
   },
   "file_extension": ".py",
   "mimetype": "text/x-python",
   "name": "python",
   "nbconvert_exporter": "python",
   "pygments_lexer": "ipython3",
   "version": "3.8.8"
  },
  "varInspector": {
   "cols": {
    "lenName": 16,
    "lenType": 16,
    "lenVar": 40
   },
   "kernels_config": {
    "python": {
     "delete_cmd_postfix": "",
     "delete_cmd_prefix": "del ",
     "library": "var_list.py",
     "varRefreshCmd": "print(var_dic_list())"
    },
    "r": {
     "delete_cmd_postfix": ") ",
     "delete_cmd_prefix": "rm(",
     "library": "var_list.r",
     "varRefreshCmd": "cat(var_dic_list()) "
    }
   },
   "types_to_exclude": [
    "module",
    "function",
    "builtin_function_or_method",
    "instance",
    "_Feature"
   ],
   "window_display": false
  }
 },
 "nbformat": 4,
 "nbformat_minor": 5
}
